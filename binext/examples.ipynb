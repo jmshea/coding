{
 "cells": [
  {
   "cell_type": "code",
   "execution_count": 1,
   "metadata": {},
   "outputs": [],
   "source": [
    "import binext"
   ]
  },
  {
   "cell_type": "code",
   "execution_count": 2,
   "metadata": {},
   "outputs": [
    {
     "name": "stdout",
     "output_type": "stream",
     "text": [
      "Help on module binext:\n",
      "\n",
      "NAME\n",
      "    binext\n",
      "\n",
      "DESCRIPTION\n",
      "    John M. Shea\n",
      "    10/22/20\n",
      "    v 0.6\n",
      "    \n",
      "    Opinionated Python module to implement Galois field arithmetic for binary extension fields GF(2^m)\n",
      "    \n",
      "    Offers two classes:\n",
      "    \n",
      "    ff: Represents a full finite field \n",
      "       \n",
      "        Initializer takes a field specifier, which can be either:\n",
      "            field size (integer, power of 2)\n",
      "            primitive polynomial, given as list of exponents with nonzero coefficient\n",
      "    \n",
      "        Primary purpose is to set up arithmetic tables for the ffelt class described below\n",
      "    \n",
      "        Offers 1 method:\n",
      "    \n",
      "        print_minpoly_table():\n",
      "            prints out the minimum polynomials associated with this field, along with the \n",
      "            minimum power of alpha that is a root of the minimum polynomial. Produces a\n",
      "            table of the same form as in Lin and Costello Appendix B\n",
      "    \n",
      "    ffelt: Represents an element in a finite field\n",
      "    \n",
      "        Initializer takes two arguments, a power of the primitive element and a field specifier (see ff above)\n",
      "        Elements are entered and returned as powers of the primitive element.\n",
      "    \n",
      "        Offers methods for adding, multiplying, and raising elements to powers\n",
      "    \n",
      "        Also offers:\n",
      "    \n",
      "        vec(): return the vector representation of an element\n",
      "        conjugates(): returns a list of conjugates for the element\n",
      "        minpoly(): returns the minimum polynomial (in GF[2]) for the element\n",
      "\n",
      "CLASSES\n",
      "    builtins.object\n",
      "        ff\n",
      "        ffelt\n",
      "    \n",
      "    class ff(builtins.object)\n",
      "     |  ff(gspec, debug=False)\n",
      "     |  \n",
      "     |  John M. Shea\n",
      "     |  10/22/20\n",
      "     |  \n",
      "     |  Generate lookup tables for operations in a binary extension field\n",
      "     |  \n",
      "     |  Must pass it a specifier for the field, which may be either:\n",
      "     |  - the order of the field (uses a default primitive polynomial)\n",
      "     |  - a primitive polynomial for the field\n",
      "     |  \n",
      "     |  Methods defined here:\n",
      "     |  \n",
      "     |  __init__(self, gspec, debug=False)\n",
      "     |      Initialize self.  See help(type(self)) for accurate signature.\n",
      "     |  \n",
      "     |  print_minpoly_table(self)\n",
      "     |  \n",
      "     |  ----------------------------------------------------------------------\n",
      "     |  Data descriptors defined here:\n",
      "     |  \n",
      "     |  __dict__\n",
      "     |      dictionary for instance variables (if defined)\n",
      "     |  \n",
      "     |  __weakref__\n",
      "     |      list of weak references to the object (if defined)\n",
      "     |  \n",
      "     |  ----------------------------------------------------------------------\n",
      "     |  Data and other attributes defined here:\n",
      "     |  \n",
      "     |  primpolys = {4: [0, 1, 2], 8: [0, 1, 3], 16: [0, 1, 4], 32: [0, 2, 5],...\n",
      "    \n",
      "    class ffelt(builtins.object)\n",
      "     |  ffelt(elt, f=-1, debug=False)\n",
      "     |  \n",
      "     |  John M. Shea\n",
      "     |  10/22/20\n",
      "     |  \n",
      "     |  arguments:\n",
      "     |  elt: a power of alpha (optional, will default to 1 if not given)\n",
      "     |  f: a field specifier (required). See below for details.\n",
      "     |  \n",
      "     |  You must either pass it a ff object OR a specifier of the field,\n",
      "     |  which can either be the order of the field (to use the default poly)\n",
      "     |  or a list of the nonzero coefficients of the primitive polynomial of the field\n",
      "     |  \n",
      "     |  Methods defined here:\n",
      "     |  \n",
      "     |  __add__(self, a)\n",
      "     |  \n",
      "     |  __eq__(self, a)\n",
      "     |      Return self==value.\n",
      "     |  \n",
      "     |  __init__(self, elt, f=-1, debug=False)\n",
      "     |      Initialize self.  See help(type(self)) for accurate signature.\n",
      "     |  \n",
      "     |  __mul__(self, a)\n",
      "     |  \n",
      "     |  __pow__(self, a)\n",
      "     |  \n",
      "     |  __repr__(self)\n",
      "     |      Return repr(self).\n",
      "     |  \n",
      "     |  conjugates(self)\n",
      "     |  \n",
      "     |  minpoly(self, coeffs=False)\n",
      "     |      Find the minimum polynomial (in the base field) that has the element as a root\n",
      "     |      \n",
      "     |      If coeffs=False (default) returns a vector of polynomial coefficients\n",
      "     |      \n",
      "     |      If coeffs=True, returns the positions of the nonzero coefficients \n",
      "     |      (as in App. B of Lin and Costello)\n",
      "     |  \n",
      "     |  vec(self)\n",
      "     |  \n",
      "     |  ----------------------------------------------------------------------\n",
      "     |  Data descriptors defined here:\n",
      "     |  \n",
      "     |  __dict__\n",
      "     |      dictionary for instance variables (if defined)\n",
      "     |  \n",
      "     |  __weakref__\n",
      "     |      list of weak references to the object (if defined)\n",
      "     |  \n",
      "     |  ----------------------------------------------------------------------\n",
      "     |  Data and other attributes defined here:\n",
      "     |  \n",
      "     |  __hash__ = None\n",
      "\n",
      "FUNCTIONS\n",
      "    bin_array(num, m)\n",
      "        Convert a positive integer num into an m-bit bit vector\n",
      "\n",
      "FILE\n",
      "    /Users/jshea/Dropbox (UFL)/teaching/6550/github/binext/binext.py\n",
      "\n",
      "\n"
     ]
    }
   ],
   "source": [
    "help(binext)"
   ]
  },
  {
   "cell_type": "code",
   "execution_count": 3,
   "metadata": {},
   "outputs": [
    {
     "name": "stdout",
     "output_type": "stream",
     "text": [
      "4 16\n",
      "  0   1   0001\n",
      "  1   2   0010\n",
      "  2   4   0100\n",
      "  3   8   1000\n",
      "  4   3   0011\n",
      "  5   6   0110\n",
      "  6  12   1100\n",
      "  7  11   1011\n",
      "  8   5   0101\n",
      "  9  10   1010\n",
      " 10   7   0111\n",
      " 11  14   1110\n",
      " 12  15   1111\n",
      " 13  13   1101\n",
      " 14   9   1001\n"
     ]
    }
   ],
   "source": [
    "f16=binext.ff(16,True)"
   ]
  },
  {
   "cell_type": "code",
   "execution_count": 4,
   "metadata": {},
   "outputs": [],
   "source": [
    "a=binext.ffelt(16)"
   ]
  },
  {
   "cell_type": "code",
   "execution_count": 5,
   "metadata": {},
   "outputs": [
    {
     "data": {
      "text/plain": [
       "a^1 GF(16)"
      ]
     },
     "execution_count": 5,
     "metadata": {},
     "output_type": "execute_result"
    }
   ],
   "source": [
    "a"
   ]
  },
  {
   "cell_type": "code",
   "execution_count": 6,
   "metadata": {},
   "outputs": [
    {
     "data": {
      "text/plain": [
       "a^3 GF(16)"
      ]
     },
     "execution_count": 6,
     "metadata": {},
     "output_type": "execute_result"
    }
   ],
   "source": [
    "b=a**3\n",
    "b"
   ]
  },
  {
   "cell_type": "code",
   "execution_count": 7,
   "metadata": {},
   "outputs": [
    {
     "data": {
      "text/plain": [
       "a^4 GF(16)"
      ]
     },
     "execution_count": 7,
     "metadata": {},
     "output_type": "execute_result"
    }
   ],
   "source": [
    "a*b"
   ]
  },
  {
   "cell_type": "code",
   "execution_count": 8,
   "metadata": {},
   "outputs": [
    {
     "data": {
      "text/plain": [
       "a^3 GF(16)"
      ]
     },
     "execution_count": 8,
     "metadata": {},
     "output_type": "execute_result"
    }
   ],
   "source": [
    "b**6"
   ]
  },
  {
   "cell_type": "code",
   "execution_count": 9,
   "metadata": {},
   "outputs": [
    {
     "data": {
      "text/plain": [
       "{None: 0,\n",
       " 0: 1,\n",
       " 1: 2,\n",
       " 2: 4,\n",
       " 3: 8,\n",
       " 4: 3,\n",
       " 5: 6,\n",
       " 6: 12,\n",
       " 7: 11,\n",
       " 8: 5,\n",
       " 9: 10,\n",
       " 10: 7,\n",
       " 11: 14,\n",
       " 12: 15,\n",
       " 13: 13,\n",
       " 14: 9}"
      ]
     },
     "execution_count": 9,
     "metadata": {},
     "output_type": "execute_result"
    }
   ],
   "source": [
    "f16.power_to_poly"
   ]
  },
  {
   "cell_type": "code",
   "execution_count": 10,
   "metadata": {},
   "outputs": [
    {
     "data": {
      "text/plain": [
       "[0, 0, 1, 0]"
      ]
     },
     "execution_count": 10,
     "metadata": {},
     "output_type": "execute_result"
    }
   ],
   "source": [
    "a.vec()"
   ]
  },
  {
   "cell_type": "code",
   "execution_count": 11,
   "metadata": {},
   "outputs": [
    {
     "data": {
      "text/plain": [
       "0 GF(16)"
      ]
     },
     "execution_count": 11,
     "metadata": {},
     "output_type": "execute_result"
    }
   ],
   "source": [
    "binext.ffelt(None,16)"
   ]
  },
  {
   "cell_type": "code",
   "execution_count": 12,
   "metadata": {},
   "outputs": [
    {
     "data": {
      "text/plain": [
       "[1, 0, 0, 0]"
      ]
     },
     "execution_count": 12,
     "metadata": {},
     "output_type": "execute_result"
    }
   ],
   "source": [
    "b.vec()"
   ]
  },
  {
   "cell_type": "code",
   "execution_count": 13,
   "metadata": {},
   "outputs": [
    {
     "data": {
      "text/plain": [
       "a^9 GF(16)"
      ]
     },
     "execution_count": 13,
     "metadata": {},
     "output_type": "execute_result"
    }
   ],
   "source": [
    "a+b"
   ]
  },
  {
   "cell_type": "code",
   "execution_count": 14,
   "metadata": {},
   "outputs": [
    {
     "data": {
      "text/plain": [
       "[1, 0, 1, 0]"
      ]
     },
     "execution_count": 14,
     "metadata": {},
     "output_type": "execute_result"
    }
   ],
   "source": [
    "(a**9).vec()"
   ]
  },
  {
   "cell_type": "code",
   "execution_count": 15,
   "metadata": {},
   "outputs": [
    {
     "data": {
      "text/plain": [
       "[a^1 GF(16), a^2 GF(16), a^4 GF(16), a^8 GF(16)]"
      ]
     },
     "execution_count": 15,
     "metadata": {},
     "output_type": "execute_result"
    }
   ],
   "source": [
    "a.conjugates()"
   ]
  },
  {
   "cell_type": "code",
   "execution_count": 16,
   "metadata": {},
   "outputs": [
    {
     "data": {
      "text/plain": [
       "[a^3 GF(16), a^6 GF(16), a^12 GF(16), a^9 GF(16)]"
      ]
     },
     "execution_count": 16,
     "metadata": {},
     "output_type": "execute_result"
    }
   ],
   "source": [
    "b.conjugates()"
   ]
  },
  {
   "cell_type": "code",
   "execution_count": 17,
   "metadata": {},
   "outputs": [
    {
     "name": "stdout",
     "output_type": "stream",
     "text": [
      "  0: [0, 1]                          2: [0, 1, 4]                     \n",
      "  6: [0, 1, 2, 3, 4]                10: [0, 1, 2]                     \n"
     ]
    }
   ],
   "source": [
    "f16.print_minpoly_table()"
   ]
  },
  {
   "cell_type": "code",
   "execution_count": 18,
   "metadata": {},
   "outputs": [
    {
     "data": {
      "text/plain": [
       "[a^5 GF(16), a^10 GF(16)]"
      ]
     },
     "execution_count": 18,
     "metadata": {},
     "output_type": "execute_result"
    }
   ],
   "source": [
    "(a**5).conjugates()"
   ]
  },
  {
   "cell_type": "code",
   "execution_count": 19,
   "metadata": {},
   "outputs": [],
   "source": [
    "f256=binext.ff(256)"
   ]
  },
  {
   "cell_type": "code",
   "execution_count": 20,
   "metadata": {},
   "outputs": [
    {
     "name": "stdout",
     "output_type": "stream",
     "text": [
      "  0: [0, 1]                          2: [0, 2, 3, 4, 8]               \n",
      "  6: [0, 1, 2, 4, 5, 6, 8]          10: [0, 1, 4, 5, 6, 7, 8]         \n",
      " 14: [0, 3, 5, 6, 8]                18: [0, 2, 3, 4, 5, 7, 8]         \n",
      " 22: [0, 1, 2, 5, 6, 7, 8]          26: [0, 1, 3, 5, 8]               \n",
      " 30: [0, 1, 2, 4, 6, 7, 8]          34: [0, 1, 4]                     \n",
      " 38: [0, 2, 5, 6, 8]                42: [0, 1, 3, 7, 8]               \n",
      " 46: [0, 1, 5, 6, 8]                50: [0, 1, 3, 4, 8]               \n",
      " 54: [0, 1, 2, 3, 4, 5, 8]          58: [0, 2, 3, 7, 8]               \n",
      " 62: [0, 2, 3, 5, 8]                74: [0, 1, 2, 3, 4, 6, 8]         \n",
      " 78: [0, 3, 4, 5, 6, 7, 8]          86: [0, 1, 6, 7, 8]               \n",
      " 90: [0, 3, 4, 5, 8]                94: [0, 3, 5, 7, 8]               \n",
      "102: [0, 1, 2, 3, 4]               106: [0, 1, 2, 7, 8]               \n",
      "110: [0, 4, 5, 7, 8]               118: [0, 2, 3, 6, 8]               \n",
      "122: [0, 1, 2, 3, 6, 7, 8]         126: [0, 2, 3, 4, 6, 7, 8]         \n",
      "170: [0, 1, 2]                     174: [0, 1, 5, 7, 8]               \n",
      "182: [0, 2, 4, 5, 6, 7, 8]         190: [0, 1, 2, 3, 4, 7, 8]         \n",
      "222: [0, 1, 3, 4, 5, 6, 8]         238: [0, 3, 4]                     \n"
     ]
    }
   ],
   "source": [
    "f256.print_minpoly_table()"
   ]
  },
  {
   "cell_type": "code",
   "execution_count": null,
   "metadata": {},
   "outputs": [],
   "source": []
  }
 ],
 "metadata": {
  "finalized": {
   "timestamp": 1603734395339,
   "trusted": true
  },
  "kernelspec": {
   "display_name": "Python 3",
   "language": "python",
   "name": "python3"
  },
  "language_info": {
   "codemirror_mode": {
    "name": "ipython",
    "version": 3
   },
   "file_extension": ".py",
   "mimetype": "text/x-python",
   "name": "python",
   "nbconvert_exporter": "python",
   "pygments_lexer": "ipython3",
   "version": "3.7.4"
  }
 },
 "nbformat": 4,
 "nbformat_minor": 4
}
